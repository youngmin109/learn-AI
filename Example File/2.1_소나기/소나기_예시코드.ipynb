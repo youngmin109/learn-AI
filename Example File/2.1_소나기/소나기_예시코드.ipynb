{
 "cells": [
  {
   "cell_type": "markdown",
   "metadata": {
    "id": "XRlOGzXEPuRK"
   },
   "source": [
    "### Ready! - 학습 데이터 준비하고 전처리하기"
   ]
  },
  {
   "cell_type": "markdown",
   "metadata": {
    "id": "SpdIYYAFzp8P"
   },
   "source": [
    "### 01 데이터 준비하기\n"
   ]
  },
  {
   "cell_type": "code",
   "execution_count": null,
   "metadata": {
    "cellView": "code",
    "executionInfo": {
     "elapsed": 4,
     "status": "ok",
     "timestamp": 1694417122073,
     "user": {
      "displayName": "Patrick Kwihoon Kim",
      "userId": "09973206501323735794"
     },
     "user_tz": -540
    },
    "id": "SLUDuHl8oJZX"
   },
   "outputs": [
    {
     "ename": "",
     "evalue": "",
     "output_type": "error",
     "traceback": [
      "\u001b[1;31m'.venv (Python 3.12.2)'(으)로 셀을 실행하려면 ipykernel 패키지가 필요합니다.\n",
      "\u001b[1;31m다음 명령어를 실행하여 Python 환경에 'ipykernel'을(를) 설치합니다. \n",
      "\u001b[1;31m 명령: '\"c:/Users/USER/OneDrive/바탕 화면/learn_AI/.venv/Scripts/python.exe\" -m pip install ipykernel -U --force-reinstall'"
     ]
    }
   ],
   "source": [
    "weather_FrogSound1 = [70, 60, 90, 80, 50, 80, 90, 70, 80, 100,\n",
    "                     40, 30, 60, 20, 50, 0, 0, 0, 0, 0]\n",
    "weather_KneePain1 = [44, 39, 49, 36, 48, 29, 39, 43, 41, 44,\n",
    "                    38, 44, 49, 39, 48, 42, 47, 42, 38, 36]"
   ]
  },
  {
   "cell_type": "code",
   "execution_count": 1,
   "metadata": {
    "colab": {
     "base_uri": "https://localhost:8080/",
     "height": 455
    },
    "executionInfo": {
     "elapsed": 8,
     "status": "ok",
     "timestamp": 1694417126653,
     "user": {
      "displayName": "Patrick Kwihoon Kim",
      "userId": "09973206501323735794"
     },
     "user_tz": -540
    },
    "id": "KSlprpeP0DvO",
    "outputId": "c3a97ddb-9930-42f4-ccf6-c3d9c5a6029d"
   },
   "outputs": [
    {
     "ename": "ModuleNotFoundError",
     "evalue": "No module named 'matplotlib'",
     "output_type": "error",
     "traceback": [
      "\u001b[31m---------------------------------------------------------------------------\u001b[39m",
      "\u001b[31mModuleNotFoundError\u001b[39m                       Traceback (most recent call last)",
      "\u001b[36mCell\u001b[39m\u001b[36m \u001b[39m\u001b[32mIn[1]\u001b[39m\u001b[32m, line 1\u001b[39m\n\u001b[32m----> \u001b[39m\u001b[32m1\u001b[39m \u001b[38;5;28;01mimport\u001b[39;00m\u001b[38;5;250m \u001b[39m\u001b[34;01mmatplotlib\u001b[39;00m\u001b[34;01m.\u001b[39;00m\u001b[34;01mpyplot\u001b[39;00m\u001b[38;5;250m \u001b[39m\u001b[38;5;28;01mas\u001b[39;00m\u001b[38;5;250m \u001b[39m\u001b[34;01mplt\u001b[39;00m\n\u001b[32m      3\u001b[39m plt.scatter(weather_FrogSound1, weather_KneePain1)\n\u001b[32m      4\u001b[39m plt.xlabel(\u001b[33m'\u001b[39m\u001b[33mFrogSound\u001b[39m\u001b[33m'\u001b[39m)\n",
      "\u001b[31mModuleNotFoundError\u001b[39m: No module named 'matplotlib'"
     ]
    }
   ],
   "source": [
    "import matplotlib.pyplot as plt\n",
    "\n",
    "plt.scatter(weather_FrogSound1, weather_KneePain1)\n",
    "plt.xlabel('FrogSound')\n",
    "plt.ylabel('KneePain')\n",
    "plt.show()"
   ]
  },
  {
   "cell_type": "code",
   "execution_count": 3,
   "metadata": {
    "executionInfo": {
     "elapsed": 2,
     "status": "ok",
     "timestamp": 1694417130954,
     "user": {
      "displayName": "Patrick Kwihoon Kim",
      "userId": "09973206501323735794"
     },
     "user_tz": -540
    },
    "id": "AIE7B3VdFXc1"
   },
   "outputs": [],
   "source": [
    "weather_FrogSound0 = [0, 0, 5, 10, 30, 20, 52, 38, 35, 40,\n",
    "                     20, 10, 0, 10, 0, 0, 0, 0, 0, 0]\n",
    "weather_KneePain0 = [20, 21, 16, 25, 18, 11, 6, 13, 21, 18,\n",
    "                     21, 16, 6, 19, 13, 22, 31, 27, 24, 26]"
   ]
  },
  {
   "cell_type": "code",
   "execution_count": 4,
   "metadata": {
    "colab": {
     "base_uri": "https://localhost:8080/",
     "height": 449
    },
    "executionInfo": {
     "elapsed": 888,
     "status": "ok",
     "timestamp": 1694417135669,
     "user": {
      "displayName": "Patrick Kwihoon Kim",
      "userId": "09973206501323735794"
     },
     "user_tz": -540
    },
    "id": "is5qmQZfH8kA",
    "outputId": "22812788-82d5-4f56-d61a-a8b76da1969b"
   },
   "outputs": [
    {
     "data": {
      "image/png": "[encoded data removed]",
      "text/plain": [
       "<Figure size 640x480 with 1 Axes>"
      ]
     },
     "metadata": {},
     "output_type": "display_data"
    }
   ],
   "source": [
    "import matplotlib.pyplot as plt\n",
    "\n",
    "plt.scatter(weather_FrogSound1, weather_KneePain1)\n",
    "plt.scatter(weather_FrogSound0, weather_KneePain0)\n",
    "plt.xlabel('FrogSound')\n",
    "plt.ylabel('KneePain')\n",
    "plt.show()"
   ]
  },
  {
   "cell_type": "code",
   "execution_count": 5,
   "metadata": {
    "executionInfo": {
     "elapsed": 1,
     "status": "ok",
     "timestamp": 1694417138577,
     "user": {
      "displayName": "Patrick Kwihoon Kim",
      "userId": "09973206501323735794"
     },
     "user_tz": -540
    },
    "id": "P7tt4qVHIdwa"
   },
   "outputs": [],
   "source": [
    "FrogSound = weather_FrogSound1 + weather_FrogSound0\n",
    "KneePain = weather_KneePain1 + weather_KneePain0"
   ]
  },
  {
   "cell_type": "code",
   "execution_count": 6,
   "metadata": {
    "colab": {
     "base_uri": "https://localhost:8080/"
    },
    "executionInfo": {
     "elapsed": 317,
     "status": "ok",
     "timestamp": 1694417142159,
     "user": {
      "displayName": "Patrick Kwihoon Kim",
      "userId": "09973206501323735794"
     },
     "user_tz": -540
    },
    "id": "JDTEo1y1FEo-",
    "outputId": "cd2429c6-6f67-4003-d92d-afc23ecdb87d"
   },
   "outputs": [
    {
     "name": "stdout",
     "output_type": "stream",
     "text": [
      "[[ 70  44]\n",
      " [ 60  39]\n",
      " [ 90  49]\n",
      " [ 80  36]\n",
      " [ 50  48]\n",
      " [ 80  29]\n",
      " [ 90  39]\n",
      " [ 70  43]\n",
      " [ 80  41]\n",
      " [100  44]\n",
      " [ 40  38]\n",
      " [ 30  44]\n",
      " [ 60  49]\n",
      " [ 20  39]\n",
      " [ 50  48]\n",
      " [  0  42]\n",
      " [  0  47]\n",
      " [  0  42]\n",
      " [  0  38]\n",
      " [  0  36]\n",
      " [  0  20]\n",
      " [  0  21]\n",
      " [  5  16]\n",
      " [ 10  25]\n",
      " [ 30  18]\n",
      " [ 20  11]\n",
      " [ 52   6]\n",
      " [ 38  13]\n",
      " [ 35  21]\n",
      " [ 40  18]\n",
      " [ 20  21]\n",
      " [ 10  16]\n",
      " [  0   6]\n",
      " [ 10  19]\n",
      " [  0  13]\n",
      " [  0  22]\n",
      " [  0  31]\n",
      " [  0  27]\n",
      " [  0  24]\n",
      " [  0  26]]\n"
     ]
    }
   ],
   "source": [
    "import numpy as np\n",
    "\n",
    "weather_data = np.column_stack((FrogSound, KneePain))\n",
    "print(weather_data)"
   ]
  },
  {
   "cell_type": "code",
   "execution_count": 7,
   "metadata": {
    "colab": {
     "base_uri": "https://localhost:8080/"
    },
    "executionInfo": {
     "elapsed": 254,
     "status": "ok",
     "timestamp": 1694417145143,
     "user": {
      "displayName": "Patrick Kwihoon Kim",
      "userId": "09973206501323735794"
     },
     "user_tz": -540
    },
    "id": "-ScgL2hIL0FB",
    "outputId": "a397706b-0824-4bbe-db88-33c035bd1b9b"
   },
   "outputs": [
    {
     "name": "stdout",
     "output_type": "stream",
     "text": [
      "[1. 1. 1. 1. 1. 1. 1. 1. 1. 1. 1. 1. 1. 1. 1. 1. 1. 1. 1. 1. 0. 0. 0. 0.\n",
      " 0. 0. 0. 0. 0. 0. 0. 0. 0. 0. 0. 0. 0. 0. 0. 0.]\n"
     ]
    }
   ],
   "source": [
    "weather_target = np.concatenate((np.ones(20), np.zeros(20)))\n",
    "print(weather_target)"
   ]
  },
  {
   "cell_type": "markdown",
   "metadata": {
    "id": "PniYaCWyPxbq"
   },
   "source": [
    "### 02 - 데이터 전처리하기\n"
   ]
  },
  {
   "cell_type": "code",
   "execution_count": 8,
   "metadata": {
    "executionInfo": {
     "elapsed": 942,
     "status": "ok",
     "timestamp": 1694417147985,
     "user": {
      "displayName": "Patrick Kwihoon Kim",
      "userId": "09973206501323735794"
     },
     "user_tz": -540
    },
    "id": "Z6T7oupqpWcR"
   },
   "outputs": [],
   "source": [
    "from sklearn.model_selection import train_test_split"
   ]
  },
  {
   "cell_type": "code",
   "execution_count": 9,
   "metadata": {
    "colab": {
     "base_uri": "https://localhost:8080/"
    },
    "executionInfo": {
     "elapsed": 261,
     "status": "ok",
     "timestamp": 1694417149782,
     "user": {
      "displayName": "Patrick Kwihoon Kim",
      "userId": "09973206501323735794"
     },
     "user_tz": -540
    },
    "id": "KhUT-LcuK1oB",
    "outputId": "7e99f92a-4026-4dee-a027-2cf8ab9d21a0"
   },
   "outputs": [
    {
     "name": "stdout",
     "output_type": "stream",
     "text": [
      "[1. 0. 0. 1. 0. 1. 0. 1. 1. 0.]\n"
     ]
    }
   ],
   "source": [
    "train_input, test_input, train_target, test_target = train_test_split(\n",
    "    weather_data, weather_target, random_state=7)\n",
    "print(test_target)"
   ]
  },
  {
   "cell_type": "code",
   "execution_count": 10,
   "metadata": {
    "colab": {
     "base_uri": "https://localhost:8080/"
    },
    "executionInfo": {
     "elapsed": 3,
     "status": "ok",
     "timestamp": 1694417151957,
     "user": {
      "displayName": "Patrick Kwihoon Kim",
      "userId": "09973206501323735794"
     },
     "user_tz": -540
    },
    "id": "sWwzrgPdpe7-",
    "outputId": "54177f98-e0bb-418e-a385-78fac9ff5e50"
   },
   "outputs": [
    {
     "name": "stdout",
     "output_type": "stream",
     "text": [
      "(30, 2) (10, 2)\n",
      "(30,) (10,)\n"
     ]
    }
   ],
   "source": [
    "print(train_input.shape, test_input.shape)\n",
    "print(train_target.shape, test_target.shape)"
   ]
  },
  {
   "cell_type": "code",
   "execution_count": 11,
   "metadata": {
    "executionInfo": {
     "elapsed": 3,
     "status": "ok",
     "timestamp": 1694417153956,
     "user": {
      "displayName": "Patrick Kwihoon Kim",
      "userId": "09973206501323735794"
     },
     "user_tz": -540
    },
    "id": "Zp3wzDLG86Qc"
   },
   "outputs": [],
   "source": [
    "from sklearn.preprocessing import StandardScaler\n",
    "\n",
    "ss = StandardScaler()\n",
    "ss.fit(train_input)\n",
    "train_scaled = ss.transform(train_input)\n",
    "test_scaled = ss.transform(test_input)"
   ]
  },
  {
   "cell_type": "code",
   "execution_count": 12,
   "metadata": {
    "colab": {
     "base_uri": "https://localhost:8080/",
     "height": 449
    },
    "executionInfo": {
     "elapsed": 329,
     "status": "ok",
     "timestamp": 1694417156430,
     "user": {
      "displayName": "Patrick Kwihoon Kim",
      "userId": "09973206501323735794"
     },
     "user_tz": -540
    },
    "id": "PdRzCtd5teaO",
    "outputId": "4729e1cd-24ef-482f-f6dc-dae41b74e3f1"
   },
   "outputs": [
    {
     "data": {
      "image/png": "[encoded data removed]",
      "text/plain": [
       "<Figure size 640x480 with 1 Axes>"
      ]
     },
     "metadata": {},
     "output_type": "display_data"
    }
   ],
   "source": [
    "import matplotlib.pyplot as plt\n",
    "\n",
    "plt.scatter(train_scaled[:,0], train_scaled[:,1])\n",
    "plt.scatter(test_scaled[:,0], test_scaled[:,1])\n",
    "plt.xlabel('FrogSound')\n",
    "plt.ylabel('KneePain')\n",
    "plt.show()"
   ]
  },
  {
   "cell_type": "markdown",
   "metadata": {
    "id": "ZJYk1I79z_B4"
   },
   "source": [
    "### Make! - 개구리 울음 소리와 무릎 통증 데이터로 인공지능 모델 만들기\n"
   ]
  },
  {
   "cell_type": "markdown",
   "metadata": {
    "id": "j3QTTpWp0iFc"
   },
   "source": [
    "### 01 - k-최근접 이웃 모델 만들기\n"
   ]
  },
  {
   "cell_type": "code",
   "execution_count": 13,
   "metadata": {
    "colab": {
     "base_uri": "https://localhost:8080/",
     "height": 74
    },
    "executionInfo": {
     "elapsed": 274,
     "status": "ok",
     "timestamp": 1694417160370,
     "user": {
      "displayName": "Patrick Kwihoon Kim",
      "userId": "09973206501323735794"
     },
     "user_tz": -540
    },
    "id": "zxVpce90wH--",
    "outputId": "4216c91f-ca23-4a09-a5ee-1f6b35e24a84"
   },
   "outputs": [
    {
     "data": {
      "text/html": [
       "<style>#sk-container-id-1 {color: black;background-color: white;}#sk-container-id-1 pre{padding: 0;}#sk-container-id-1 div.sk-toggleable {background-color: white;}#sk-container-id-1 label.sk-toggleable__label {cursor: pointer;display: block;width: 100%;margin-bottom: 0;padding: 0.3em;box-sizing: border-box;text-align: center;}#sk-container-id-1 label.sk-toggleable__label-arrow:before {content: \"▸\";float: left;margin-right: 0.25em;color: #696969;}#sk-container-id-1 label.sk-toggleable__label-arrow:hover:before {color: black;}#sk-container-id-1 div.sk-estimator:hover label.sk-toggleable__label-arrow:before {color: black;}#sk-container-id-1 div.sk-toggleable__content {max-height: 0;max-width: 0;overflow: hidden;text-align: left;background-color: #f0f8ff;}#sk-container-id-1 div.sk-toggleable__content pre {margin: 0.2em;color: black;border-radius: 0.25em;background-color: #f0f8ff;}#sk-container-id-1 input.sk-toggleable__control:checked~div.sk-toggleable__content {max-height: 200px;max-width: 100%;overflow: auto;}#sk-container-id-1 input.sk-toggleable__control:checked~label.sk-toggleable__label-arrow:before {content: \"▾\";}#sk-container-id-1 div.sk-estimator input.sk-toggleable__control:checked~label.sk-toggleable__label {background-color: #d4ebff;}#sk-container-id-1 div.sk-label input.sk-toggleable__control:checked~label.sk-toggleable__label {background-color: #d4ebff;}#sk-container-id-1 input.sk-hidden--visually {border: 0;clip: rect(1px 1px 1px 1px);clip: rect(1px, 1px, 1px, 1px);height: 1px;margin: -1px;overflow: hidden;padding: 0;position: absolute;width: 1px;}#sk-container-id-1 div.sk-estimator {font-family: monospace;background-color: #f0f8ff;border: 1px dotted black;border-radius: 0.25em;box-sizing: border-box;margin-bottom: 0.5em;}#sk-container-id-1 div.sk-estimator:hover {background-color: #d4ebff;}#sk-container-id-1 div.sk-parallel-item::after {content: \"\";width: 100%;border-bottom: 1px solid gray;flex-grow: 1;}#sk-container-id-1 div.sk-label:hover label.sk-toggleable__label {background-color: #d4ebff;}#sk-container-id-1 div.sk-serial::before {content: \"\";position: absolute;border-left: 1px solid gray;box-sizing: border-box;top: 0;bottom: 0;left: 50%;z-index: 0;}#sk-container-id-1 div.sk-serial {display: flex;flex-direction: column;align-items: center;background-color: white;padding-right: 0.2em;padding-left: 0.2em;position: relative;}#sk-container-id-1 div.sk-item {position: relative;z-index: 1;}#sk-container-id-1 div.sk-parallel {display: flex;align-items: stretch;justify-content: center;background-color: white;position: relative;}#sk-container-id-1 div.sk-item::before, #sk-container-id-1 div.sk-parallel-item::before {content: \"\";position: absolute;border-left: 1px solid gray;box-sizing: border-box;top: 0;bottom: 0;left: 50%;z-index: -1;}#sk-container-id-1 div.sk-parallel-item {display: flex;flex-direction: column;z-index: 1;position: relative;background-color: white;}#sk-container-id-1 div.sk-parallel-item:first-child::after {align-self: flex-end;width: 50%;}#sk-container-id-1 div.sk-parallel-item:last-child::after {align-self: flex-start;width: 50%;}#sk-container-id-1 div.sk-parallel-item:only-child::after {width: 0;}#sk-container-id-1 div.sk-dashed-wrapped {border: 1px dashed gray;margin: 0 0.4em 0.5em 0.4em;box-sizing: border-box;padding-bottom: 0.4em;background-color: white;}#sk-container-id-1 div.sk-label label {font-family: monospace;font-weight: bold;display: inline-block;line-height: 1.2em;}#sk-container-id-1 div.sk-label-container {text-align: center;}#sk-container-id-1 div.sk-container {/* jupyter's `normalize.less` sets `[hidden] { display: none; }` but bootstrap.min.css set `[hidden] { display: none !important; }` so we also need the `!important` here to be able to override the default hidden behavior on the sphinx rendered scikit-learn.org. See: https://github.com/scikit-learn/scikit-learn/issues/21755 */display: inline-block !important;position: relative;}#sk-container-id-1 div.sk-text-repr-fallback {display: none;}</style><div id=\"sk-container-id-1\" class=\"sk-top-container\"><div class=\"sk-text-repr-fallback\"><pre>KNeighborsClassifier()</pre><b>In a Jupyter environment, please rerun this cell to show the HTML representation or trust the notebook. <br />On GitHub, the HTML representation is unable to render, please try loading this page with nbviewer.org.</b></div><div class=\"sk-container\" hidden><div class=\"sk-item\"><div class=\"sk-estimator sk-toggleable\"><input class=\"sk-toggleable__control sk-hidden--visually\" id=\"sk-estimator-id-1\" type=\"checkbox\" checked><label for=\"sk-estimator-id-1\" class=\"sk-toggleable__label sk-toggleable__label-arrow\">KNeighborsClassifier</label><div class=\"sk-toggleable__content\"><pre>KNeighborsClassifier()</pre></div></div></div></div></div>"
      ],
      "text/plain": [
       "KNeighborsClassifier()"
      ]
     },
     "execution_count": 13,
     "metadata": {},
     "output_type": "execute_result"
    }
   ],
   "source": [
    "from sklearn.neighbors import KNeighborsClassifier\n",
    "\n",
    "knn = KNeighborsClassifier(n_neighbors=5)\n",
    "knn.fit(train_scaled, train_target)"
   ]
  },
  {
   "cell_type": "code",
   "execution_count": 14,
   "metadata": {
    "colab": {
     "base_uri": "https://localhost:8080/"
    },
    "executionInfo": {
     "elapsed": 253,
     "status": "ok",
     "timestamp": 1694417165694,
     "user": {
      "displayName": "Patrick Kwihoon Kim",
      "userId": "09973206501323735794"
     },
     "user_tz": -540
    },
    "id": "6zyqsi9p_UqD",
    "outputId": "38170d2b-f745-4aed-9102-b6ebb211f94d"
   },
   "outputs": [
    {
     "name": "stdout",
     "output_type": "stream",
     "text": [
      "1.0\n",
      "1.0\n"
     ]
    }
   ],
   "source": [
    "print(knn.score(train_scaled, train_target))\n",
    "print(knn.score(test_scaled, test_target))"
   ]
  },
  {
   "cell_type": "markdown",
   "metadata": {
    "id": "6MFV2SoQ0ebs"
   },
   "source": [
    "### Predict! - 개구리 울음 소리와 무릎 통증으로 내일 날씨 예측하기\n"
   ]
  },
  {
   "cell_type": "markdown",
   "metadata": {
    "id": "Ed1pbuV31fKd"
   },
   "source": [
    "### 01 - k-최근접 이웃으로 날씨 예측하기\n"
   ]
  },
  {
   "cell_type": "code",
   "execution_count": 15,
   "metadata": {
    "colab": {
     "base_uri": "https://localhost:8080/",
     "height": 449
    },
    "executionInfo": {
     "elapsed": 473,
     "status": "ok",
     "timestamp": 1694417169083,
     "user": {
      "displayName": "Patrick Kwihoon Kim",
      "userId": "09973206501323735794"
     },
     "user_tz": -540
    },
    "id": "y5nViF8wiUzk",
    "outputId": "f73a7405-b50f-4e52-e036-59e71fbc3ab7"
   },
   "outputs": [
    {
     "data": {
      "image/png": "[encoded data removed]",
      "text/plain": [
       "<Figure size 640x480 with 1 Axes>"
      ]
     },
     "metadata": {},
     "output_type": "display_data"
    }
   ],
   "source": [
    "import matplotlib.pyplot as plt\n",
    "\n",
    "plt.scatter(train_scaled[:,0], train_scaled[:,1])\n",
    "#plt.scatter(test_scaled[:,0], test_scaled[:,1])\n",
    "plt.xlabel('FrogSound')\n",
    "plt.ylabel('KneePain')\n",
    "plt.show()"
   ]
  },
  {
   "cell_type": "code",
   "execution_count": 16,
   "metadata": {
    "colab": {
     "base_uri": "https://localhost:8080/",
     "height": 449
    },
    "executionInfo": {
     "elapsed": 285,
     "status": "ok",
     "timestamp": 1694417172433,
     "user": {
      "displayName": "Patrick Kwihoon Kim",
      "userId": "09973206501323735794"
     },
     "user_tz": -540
    },
    "id": "eNvWELBmhoCm",
    "outputId": "a4a9c9e6-5976-4822-e6d5-b4ab73136235"
   },
   "outputs": [
    {
     "data": {
      "image/png": "[encoded data removed]",
      "text/plain": [
       "<Figure size 640x480 with 1 Axes>"
      ]
     },
     "metadata": {},
     "output_type": "display_data"
    }
   ],
   "source": [
    "import matplotlib.pyplot as plt\n",
    "\n",
    "plt.scatter(train_scaled[:, 0], train_scaled[:, 1])\n",
    "#plt.scatter(test_scaled[:, 0], test_scaled[:, 1])\n",
    "plt.scatter(50, 40, marker='^')\n",
    "plt.xlabel('FrogSound')\n",
    "plt.ylabel('KneePain')\n",
    "plt.show()"
   ]
  },
  {
   "cell_type": "code",
   "execution_count": 17,
   "metadata": {
    "colab": {
     "base_uri": "https://localhost:8080/",
     "height": 449
    },
    "executionInfo": {
     "elapsed": 871,
     "status": "ok",
     "timestamp": 1694417176284,
     "user": {
      "displayName": "Patrick Kwihoon Kim",
      "userId": "09973206501323735794"
     },
     "user_tz": -540
    },
    "id": "WaNFCiiu9E-o",
    "outputId": "aeffc4fe-86c8-47ba-d652-2aaba3de4eef"
   },
   "outputs": [
    {
     "data": {
      "image/png": "[encoded data removed]",
      "text/plain": [
       "<Figure size 640x480 with 1 Axes>"
      ]
     },
     "metadata": {},
     "output_type": "display_data"
    }
   ],
   "source": [
    "import matplotlib.pyplot as plt\n",
    "\n",
    "mean = np.mean(train_input, axis =0)\n",
    "std = np.std(train_input, axis =0)\n",
    "n_tg = ([50,40] - mean) / std\n",
    "\n",
    "plt.scatter(train_scaled[:, 0], train_scaled[:, 1])\n",
    "plt.scatter(n_tg[0], n_tg[1], marker='^')\n",
    "plt.xlabel('FrogSound')\n",
    "plt.ylabel('KneePain')\n",
    "plt.show()"
   ]
  },
  {
   "cell_type": "code",
   "execution_count": 18,
   "metadata": {
    "colab": {
     "base_uri": "https://localhost:8080/"
    },
    "executionInfo": {
     "elapsed": 3,
     "status": "ok",
     "timestamp": 1694417185671,
     "user": {
      "displayName": "Patrick Kwihoon Kim",
      "userId": "09973206501323735794"
     },
     "user_tz": -540
    },
    "id": "G_jwm_ouQKQ7",
    "outputId": "ac20a59d-bc12-485b-e67d-dfc0c0eee878"
   },
   "outputs": [
    {
     "name": "stdout",
     "output_type": "stream",
     "text": [
      "[[0.37977078 0.63661597 0.63661597 0.72977798 0.75954157]]\n"
     ]
    }
   ],
   "source": [
    "distances, indexes = knn.kneighbors([[n_tg[0], n_tg[1]]])\n",
    "\n",
    "print(distances)"
   ]
  },
  {
   "cell_type": "code",
   "execution_count": 19,
   "metadata": {
    "colab": {
     "base_uri": "https://localhost:8080/",
     "height": 449
    },
    "executionInfo": {
     "elapsed": 326,
     "status": "ok",
     "timestamp": 1694417187952,
     "user": {
      "displayName": "Patrick Kwihoon Kim",
      "userId": "09973206501323735794"
     },
     "user_tz": -540
    },
    "id": "bHWAbdefW9W6",
    "outputId": "7c6b54e4-6c28-440b-9f2e-c1d8c950da09"
   },
   "outputs": [
    {
     "data": {
      "image/png": "[encoded data removed]",
      "text/plain": [
       "<Figure size 640x480 with 1 Axes>"
      ]
     },
     "metadata": {},
     "output_type": "display_data"
    }
   ],
   "source": [
    "plt.scatter(train_scaled[:,0], train_scaled[:,1])\n",
    "plt.scatter(n_tg[0], n_tg[1], marker='^')\n",
    "plt.scatter(train_scaled[indexes,0], train_scaled[indexes,1], marker='D')\n",
    "plt.xlabel('FrogSound')\n",
    "plt.ylabel('KneePain')\n",
    "plt.show()"
   ]
  },
  {
   "cell_type": "code",
   "execution_count": 20,
   "metadata": {
    "colab": {
     "base_uri": "https://localhost:8080/"
    },
    "executionInfo": {
     "elapsed": 301,
     "status": "ok",
     "timestamp": 1694417191455,
     "user": {
      "displayName": "Patrick Kwihoon Kim",
      "userId": "09973206501323735794"
     },
     "user_tz": -540
    },
    "id": "JRKoCZFeT9xE",
    "outputId": "b49a1960-569c-4e32-f7c6-18cd492c4d37"
   },
   "outputs": [
    {
     "name": "stdout",
     "output_type": "stream",
     "text": [
      "[1.]\n"
     ]
    }
   ],
   "source": [
    "print(knn.predict([n_tg]))"
   ]
  }
 ],
 "metadata": {
  "colab": {
   "provenance": []
  },
  "kernelspec": {
   "display_name": ".venv",
   "language": "python",
   "name": "python3"
  },
  "language_info": {
   "codemirror_mode": {
    "name": "ipython",
    "version": 3
   },
   "file_extension": ".py",
   "mimetype": "text/x-python",
   "name": "python",
   "nbconvert_exporter": "python",
   "pygments_lexer": "ipython3",
   "version": "3.12.2"
  }
 },
 "nbformat": 4,
 "nbformat_minor": 0
}
