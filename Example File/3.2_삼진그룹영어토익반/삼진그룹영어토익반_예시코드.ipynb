{
  "nbformat": 4,
  "nbformat_minor": 0,
  "metadata": {
    "colab": {
      "provenance": []
    },
    "kernelspec": {
      "name": "python3",
      "display_name": "Python 3"
    },
    "language_info": {
      "name": "python"
    }
  },
  "cells": [
    {
      "cell_type": "markdown",
      "source": [
        "**굵은 텍스트**#**삼진그룹영어토익반**\n",
        "<img src=\"https://drive.google.com/uc?id=1KHIt5N7wAuq8G8jeI0HE7aHfzlGC0zUa\n",
        "\" width=1200>"
      ],
      "metadata": {
        "id": "yqc5FRtM7nGR"
      }
    },
    {
      "cell_type": "markdown",
      "source": [
        "#<1> 문제상황 확인\n",
        "<img src=\"https://drive.google.com/uc?id=1ii44CHCEJgy2NzSS034rJODB-S7WPEXt\" width=1200>\n"
      ],
      "metadata": {
        "id": "s-Ob7w6I7pUZ"
      }
    },
    {
      "cell_type": "markdown",
      "source": [
        "#<2> AI로 문제해결하기\n",
        "<img src=\"https://drive.google.com/uc?id=1wo9i2d-Y8HvJG2z8vN4IzAO-aLCiEGFq\" width=1000>"
      ],
      "metadata": {
        "id": "9kFelENp7phA"
      }
    },
    {
      "cell_type": "markdown",
      "source": [
        "#음용 가능한 물에 대한 다양한 데이터 샘플을 확보"
      ],
      "metadata": {
        "id": "3g0Gk1SRzBKX"
      }
    },
    {
      "cell_type": "code",
      "execution_count": null,
      "metadata": {
        "id": "JJrBe1dWq40N",
        "colab": {
          "base_uri": "https://localhost:8080/",
          "height": 381
        },
        "outputId": "09de0abe-a662-44bb-e957-387bcc29f80d"
      },
      "outputs": [
        {
          "output_type": "stream",
          "name": "stdout",
          "text": [
            "Drive already mounted at /content/drive; to attempt to forcibly remount, call drive.mount(\"/content/drive\", force_remount=True).\n"
          ]
        },
        {
          "output_type": "execute_result",
          "data": {
            "text/plain": [
              "            ph    Hardness        Solids  Chloramines     Sulfate  \\\n",
              "93    9.026788  253.217074  27965.072146     6.588374  373.553235   \n",
              "1218  6.280978  205.123123  25972.803751     8.417896  383.671459   \n",
              "401   8.596391  189.523161  14518.974501     5.124129  422.990413   \n",
              "2983  7.561833  170.175157  23254.009619     7.583327  328.702630   \n",
              "1100       NaN  213.041191  12036.643044     9.794730  349.171395   \n",
              "383   4.912557  308.253833  44063.098417     7.927977  280.933664   \n",
              "984        NaN  238.409598  26493.076207     8.669944  311.553679   \n",
              "2779  9.454119  224.817132  21379.963927     5.407692  227.665635   \n",
              "1436       NaN  213.474706  20626.515937     8.442057  318.738774   \n",
              "741   4.638250  182.419621  34261.985889     6.197716  307.458454   \n",
              "\n",
              "      Conductivity  Organic_carbon  Trihalomethanes  Turbidity  Potability  \n",
              "93      588.319651       16.145732        59.124451   2.019042           0  \n",
              "1218    456.543945       13.954710        32.799029   4.599432           1  \n",
              "401     348.041489       17.358071              NaN   3.519884           1  \n",
              "2983    397.587974       16.140317        66.746781   4.032150           0  \n",
              "1100    284.017995       12.419906        74.674383   3.898916           1  \n",
              "383     327.475650       14.857981              NaN   4.897373           1  \n",
              "984     369.283864       11.759930        91.239299   3.241267           0  \n",
              "2779    431.613001       15.772334        52.033845   4.058626           1  \n",
              "1436    337.895405        7.689294        77.003121   3.236570           0  \n",
              "741     439.117705        7.760853              NaN   4.124538           1  "
            ],
            "text/html": [
              "\n",
              "  <div id=\"df-e1811f7f-3a3a-4673-989b-6ddb6ee066c1\">\n",
              "    <div class=\"colab-df-container\">\n",
              "      <div>\n",
              "<style scoped>\n",
              "    .dataframe tbody tr th:only-of-type {\n",
              "        vertical-align: middle;\n",
              "    }\n",
              "\n",
              "    .dataframe tbody tr th {\n",
              "        vertical-align: top;\n",
              "    }\n",
              "\n",
              "    .dataframe thead th {\n",
              "        text-align: right;\n",
              "    }\n",
              "</style>\n",
              "<table border=\"1\" class=\"dataframe\">\n",
              "  <thead>\n",
              "    <tr style=\"text-align: right;\">\n",
              "      <th></th>\n",
              "      <th>ph</th>\n",
              "      <th>Hardness</th>\n",
              "      <th>Solids</th>\n",
              "      <th>Chloramines</th>\n",
              "      <th>Sulfate</th>\n",
              "      <th>Conductivity</th>\n",
              "      <th>Organic_carbon</th>\n",
              "      <th>Trihalomethanes</th>\n",
              "      <th>Turbidity</th>\n",
              "      <th>Potability</th>\n",
              "    </tr>\n",
              "  </thead>\n",
              "  <tbody>\n",
              "    <tr>\n",
              "      <th>93</th>\n",
              "      <td>9.026788</td>\n",
              "      <td>253.217074</td>\n",
              "      <td>27965.072146</td>\n",
              "      <td>6.588374</td>\n",
              "      <td>373.553235</td>\n",
              "      <td>588.319651</td>\n",
              "      <td>16.145732</td>\n",
              "      <td>59.124451</td>\n",
              "      <td>2.019042</td>\n",
              "      <td>0</td>\n",
              "    </tr>\n",
              "    <tr>\n",
              "      <th>1218</th>\n",
              "      <td>6.280978</td>\n",
              "      <td>205.123123</td>\n",
              "      <td>25972.803751</td>\n",
              "      <td>8.417896</td>\n",
              "      <td>383.671459</td>\n",
              "      <td>456.543945</td>\n",
              "      <td>13.954710</td>\n",
              "      <td>32.799029</td>\n",
              "      <td>4.599432</td>\n",
              "      <td>1</td>\n",
              "    </tr>\n",
              "    <tr>\n",
              "      <th>401</th>\n",
              "      <td>8.596391</td>\n",
              "      <td>189.523161</td>\n",
              "      <td>14518.974501</td>\n",
              "      <td>5.124129</td>\n",
              "      <td>422.990413</td>\n",
              "      <td>348.041489</td>\n",
              "      <td>17.358071</td>\n",
              "      <td>NaN</td>\n",
              "      <td>3.519884</td>\n",
              "      <td>1</td>\n",
              "    </tr>\n",
              "    <tr>\n",
              "      <th>2983</th>\n",
              "      <td>7.561833</td>\n",
              "      <td>170.175157</td>\n",
              "      <td>23254.009619</td>\n",
              "      <td>7.583327</td>\n",
              "      <td>328.702630</td>\n",
              "      <td>397.587974</td>\n",
              "      <td>16.140317</td>\n",
              "      <td>66.746781</td>\n",
              "      <td>4.032150</td>\n",
              "      <td>0</td>\n",
              "    </tr>\n",
              "    <tr>\n",
              "      <th>1100</th>\n",
              "      <td>NaN</td>\n",
              "      <td>213.041191</td>\n",
              "      <td>12036.643044</td>\n",
              "      <td>9.794730</td>\n",
              "      <td>349.171395</td>\n",
              "      <td>284.017995</td>\n",
              "      <td>12.419906</td>\n",
              "      <td>74.674383</td>\n",
              "      <td>3.898916</td>\n",
              "      <td>1</td>\n",
              "    </tr>\n",
              "    <tr>\n",
              "      <th>383</th>\n",
              "      <td>4.912557</td>\n",
              "      <td>308.253833</td>\n",
              "      <td>44063.098417</td>\n",
              "      <td>7.927977</td>\n",
              "      <td>280.933664</td>\n",
              "      <td>327.475650</td>\n",
              "      <td>14.857981</td>\n",
              "      <td>NaN</td>\n",
              "      <td>4.897373</td>\n",
              "      <td>1</td>\n",
              "    </tr>\n",
              "    <tr>\n",
              "      <th>984</th>\n",
              "      <td>NaN</td>\n",
              "      <td>238.409598</td>\n",
              "      <td>26493.076207</td>\n",
              "      <td>8.669944</td>\n",
              "      <td>311.553679</td>\n",
              "      <td>369.283864</td>\n",
              "      <td>11.759930</td>\n",
              "      <td>91.239299</td>\n",
              "      <td>3.241267</td>\n",
              "      <td>0</td>\n",
              "    </tr>\n",
              "    <tr>\n",
              "      <th>2779</th>\n",
              "      <td>9.454119</td>\n",
              "      <td>224.817132</td>\n",
              "      <td>21379.963927</td>\n",
              "      <td>5.407692</td>\n",
              "      <td>227.665635</td>\n",
              "      <td>431.613001</td>\n",
              "      <td>15.772334</td>\n",
              "      <td>52.033845</td>\n",
              "      <td>4.058626</td>\n",
              "      <td>1</td>\n",
              "    </tr>\n",
              "    <tr>\n",
              "      <th>1436</th>\n",
              "      <td>NaN</td>\n",
              "      <td>213.474706</td>\n",
              "      <td>20626.515937</td>\n",
              "      <td>8.442057</td>\n",
              "      <td>318.738774</td>\n",
              "      <td>337.895405</td>\n",
              "      <td>7.689294</td>\n",
              "      <td>77.003121</td>\n",
              "      <td>3.236570</td>\n",
              "      <td>0</td>\n",
              "    </tr>\n",
              "    <tr>\n",
              "      <th>741</th>\n",
              "      <td>4.638250</td>\n",
              "      <td>182.419621</td>\n",
              "      <td>34261.985889</td>\n",
              "      <td>6.197716</td>\n",
              "      <td>307.458454</td>\n",
              "      <td>439.117705</td>\n",
              "      <td>7.760853</td>\n",
              "      <td>NaN</td>\n",
              "      <td>4.124538</td>\n",
              "      <td>1</td>\n",
              "    </tr>\n",
              "  </tbody>\n",
              "</table>\n",
              "</div>\n",
              "      <button class=\"colab-df-convert\" onclick=\"convertToInteractive('df-e1811f7f-3a3a-4673-989b-6ddb6ee066c1')\"\n",
              "              title=\"Convert this dataframe to an interactive table.\"\n",
              "              style=\"display:none;\">\n",
              "        \n",
              "  <svg xmlns=\"http://www.w3.org/2000/svg\" height=\"24px\"viewBox=\"0 0 24 24\"\n",
              "       width=\"24px\">\n",
              "    <path d=\"M0 0h24v24H0V0z\" fill=\"none\"/>\n",
              "    <path d=\"M18.56 5.44l.94 2.06.94-2.06 2.06-.94-2.06-.94-.94-2.06-.94 2.06-2.06.94zm-11 1L8.5 8.5l.94-2.06 2.06-.94-2.06-.94L8.5 2.5l-.94 2.06-2.06.94zm10 10l.94 2.06.94-2.06 2.06-.94-2.06-.94-.94-2.06-.94 2.06-2.06.94z\"/><path d=\"M17.41 7.96l-1.37-1.37c-.4-.4-.92-.59-1.43-.59-.52 0-1.04.2-1.43.59L10.3 9.45l-7.72 7.72c-.78.78-.78 2.05 0 2.83L4 21.41c.39.39.9.59 1.41.59.51 0 1.02-.2 1.41-.59l7.78-7.78 2.81-2.81c.8-.78.8-2.07 0-2.86zM5.41 20L4 18.59l7.72-7.72 1.47 1.35L5.41 20z\"/>\n",
              "  </svg>\n",
              "      </button>\n",
              "      \n",
              "  <style>\n",
              "    .colab-df-container {\n",
              "      display:flex;\n",
              "      flex-wrap:wrap;\n",
              "      gap: 12px;\n",
              "    }\n",
              "\n",
              "    .colab-df-convert {\n",
              "      background-color: #E8F0FE;\n",
              "      border: none;\n",
              "      border-radius: 50%;\n",
              "      cursor: pointer;\n",
              "      display: none;\n",
              "      fill: #1967D2;\n",
              "      height: 32px;\n",
              "      padding: 0 0 0 0;\n",
              "      width: 32px;\n",
              "    }\n",
              "\n",
              "    .colab-df-convert:hover {\n",
              "      background-color: #E2EBFA;\n",
              "      box-shadow: 0px 1px 2px rgba(60, 64, 67, 0.3), 0px 1px 3px 1px rgba(60, 64, 67, 0.15);\n",
              "      fill: #174EA6;\n",
              "    }\n",
              "\n",
              "    [theme=dark] .colab-df-convert {\n",
              "      background-color: #3B4455;\n",
              "      fill: #D2E3FC;\n",
              "    }\n",
              "\n",
              "    [theme=dark] .colab-df-convert:hover {\n",
              "      background-color: #434B5C;\n",
              "      box-shadow: 0px 1px 3px 1px rgba(0, 0, 0, 0.15);\n",
              "      filter: drop-shadow(0px 1px 2px rgba(0, 0, 0, 0.3));\n",
              "      fill: #FFFFFF;\n",
              "    }\n",
              "  </style>\n",
              "\n",
              "      <script>\n",
              "        const buttonEl =\n",
              "          document.querySelector('#df-e1811f7f-3a3a-4673-989b-6ddb6ee066c1 button.colab-df-convert');\n",
              "        buttonEl.style.display =\n",
              "          google.colab.kernel.accessAllowed ? 'block' : 'none';\n",
              "\n",
              "        async function convertToInteractive(key) {\n",
              "          const element = document.querySelector('#df-e1811f7f-3a3a-4673-989b-6ddb6ee066c1');\n",
              "          const dataTable =\n",
              "            await google.colab.kernel.invokeFunction('convertToInteractive',\n",
              "                                                     [key], {});\n",
              "          if (!dataTable) return;\n",
              "\n",
              "          const docLinkHtml = 'Like what you see? Visit the ' +\n",
              "            '<a target=\"_blank\" href=https://colab.research.google.com/notebooks/data_table.ipynb>data table notebook</a>'\n",
              "            + ' to learn more about interactive tables.';\n",
              "          element.innerHTML = '';\n",
              "          dataTable['output_type'] = 'display_data';\n",
              "          await google.colab.output.renderOutput(dataTable, element);\n",
              "          const docLink = document.createElement('div');\n",
              "          docLink.innerHTML = docLinkHtml;\n",
              "          element.appendChild(docLink);\n",
              "        }\n",
              "      </script>\n",
              "    </div>\n",
              "  </div>\n",
              "  "
            ]
          },
          "metadata": {},
          "execution_count": 24
        }
      ],
      "source": [
        "import pandas as pd\n",
        "from google.colab import drive\n",
        "drive.mount('/content/drive')\n",
        "data = pd.read_csv('/content/drive/My Drive/꼬꼬무_인공지능/3.2_삼진그룹영어토익반/water_potability.csv')\n",
        "data.sample(n=10)"
      ]
    },
    {
      "cell_type": "markdown",
      "source": [
        "#확보된 데이타의 컬럼(Column) 설명\n",
        "##1. ph: 물의 산, 염기\n",
        "##2. Hardness: 물의 경도\n",
        "##3. Solids: 물에 용해된 용존고체량\n",
        "##4. Chloramines(클로라민): 수돗물에 정화에 쓰이는 소독약(NH2Cl)\n",
        "##5. Sulfate: 황산염(SO4 2-)\n",
        "##6. Conductivity: 물의 전도율\n",
        "##7. Organi_carbon: 유기 탄소(유기화합물을 분해하는 산소요구량)\n",
        "##8. Trihalomethanes(트라이할로메테인): 산업에서 용매 또는 냉매로 사용, 대부분 발암물질\n",
        "##9. Turbidity(터비더티): 탁도 \n"
      ],
      "metadata": {
        "id": "aPovCYmiRe1N"
      }
    },
    {
      "cell_type": "code",
      "source": [
        "data.info()"
      ],
      "metadata": {
        "colab": {
          "base_uri": "https://localhost:8080/"
        },
        "id": "tw68nmTFqAZv",
        "outputId": "9962d170-bcb4-42a6-80ae-dc64322ac2b2"
      },
      "execution_count": null,
      "outputs": [
        {
          "output_type": "stream",
          "name": "stdout",
          "text": [
            "<class 'pandas.core.frame.DataFrame'>\n",
            "RangeIndex: 3276 entries, 0 to 3275\n",
            "Data columns (total 10 columns):\n",
            " #   Column           Non-Null Count  Dtype  \n",
            "---  ------           --------------  -----  \n",
            " 0   ph               2785 non-null   float64\n",
            " 1   Hardness         3276 non-null   float64\n",
            " 2   Solids           3276 non-null   float64\n",
            " 3   Chloramines      3276 non-null   float64\n",
            " 4   Sulfate          2495 non-null   float64\n",
            " 5   Conductivity     3276 non-null   float64\n",
            " 6   Organic_carbon   3276 non-null   float64\n",
            " 7   Trihalomethanes  3114 non-null   float64\n",
            " 8   Turbidity        3276 non-null   float64\n",
            " 9   Potability       3276 non-null   int64  \n",
            "dtypes: float64(9), int64(1)\n",
            "memory usage: 256.1 KB\n"
          ]
        }
      ]
    },
    {
      "cell_type": "code",
      "source": [
        "data.isnull().sum()"
      ],
      "metadata": {
        "colab": {
          "base_uri": "https://localhost:8080/"
        },
        "id": "IzF4GxjvqHO6",
        "outputId": "59ea5f8e-c91f-412c-c3b5-c87eb45337fa"
      },
      "execution_count": null,
      "outputs": [
        {
          "output_type": "execute_result",
          "data": {
            "text/plain": [
              "ph                 491\n",
              "Hardness             0\n",
              "Solids               0\n",
              "Chloramines          0\n",
              "Sulfate            781\n",
              "Conductivity         0\n",
              "Organic_carbon       0\n",
              "Trihalomethanes    162\n",
              "Turbidity            0\n",
              "Potability           0\n",
              "dtype: int64"
            ]
          },
          "metadata": {},
          "execution_count": 26
        }
      ]
    },
    {
      "cell_type": "code",
      "source": [
        "print(data.groupby(['Potability']).mean()) #평균값 확인을 위한 코드"
      ],
      "metadata": {
        "colab": {
          "base_uri": "https://localhost:8080/"
        },
        "id": "P1KHBBTyqTZi",
        "outputId": "768ca400-6dd7-4449-dfdb-fafd3acd612e"
      },
      "execution_count": null,
      "outputs": [
        {
          "output_type": "stream",
          "name": "stdout",
          "text": [
            "                  ph    Hardness        Solids  Chloramines    Sulfate  \\\n",
            "Potability                                                               \n",
            "0           7.085378  196.733292  21777.490788     7.092175  334.56429   \n",
            "1           7.073783  195.800744  22383.991018     7.169338  332.56699   \n",
            "\n",
            "            Conductivity  Organic_carbon  Trihalomethanes  Turbidity  \n",
            "Potability                                                            \n",
            "0             426.730454       14.364335        66.303555   3.965800  \n",
            "1             425.383800       14.160893        66.539684   3.968328  \n"
          ]
        }
      ]
    },
    {
      "cell_type": "code",
      "source": [
        "print(data.groupby(['Potability'])['ph'].transform('mean'))"
      ],
      "metadata": {
        "colab": {
          "base_uri": "https://localhost:8080/"
        },
        "id": "2tPLacXR7nyA",
        "outputId": "19683a4e-0344-4afa-826c-2e6ba3d80a77"
      },
      "execution_count": null,
      "outputs": [
        {
          "output_type": "stream",
          "name": "stdout",
          "text": [
            "0       7.085378\n",
            "1       7.085378\n",
            "2       7.085378\n",
            "3       7.085378\n",
            "4       7.085378\n",
            "          ...   \n",
            "3271    7.073783\n",
            "3272    7.073783\n",
            "3273    7.073783\n",
            "3274    7.073783\n",
            "3275    7.073783\n",
            "Name: ph, Length: 3276, dtype: float64\n"
          ]
        }
      ]
    },
    {
      "cell_type": "markdown",
      "source": [
        "#데이터 전처리\n",
        "## 1. 데이터의 결측값은 음용가능한 물과 그렇지 않은 물을 구별하고, 결측된 컬럼의 평균값으로 대체\n",
        "## 2. 리샘플링(resampling)을 통한 데이터 편향을 방지하고, 동등한 수의 데이터를 확보"
      ],
      "metadata": {
        "id": "AQK09-DtbVYN"
      }
    },
    {
      "cell_type": "code",
      "source": [
        "data['ph']=data['ph'].fillna(data.groupby(['Potability'])['ph'].transform('mean'))\n",
        "data['Sulfate']=data['Sulfate'].fillna(data.groupby(['Potability'])['Sulfate'].transform('mean'))\n",
        "data['Trihalomethanes']=data['Trihalomethanes'].fillna(data.groupby(['Potability'])['Trihalomethanes'].transform('mean'))\n",
        "data.info()"
      ],
      "metadata": {
        "colab": {
          "base_uri": "https://localhost:8080/"
        },
        "id": "3wn8FZDA9gDP",
        "outputId": "0202b817-788e-46f3-912a-9f35e10d6949"
      },
      "execution_count": null,
      "outputs": [
        {
          "output_type": "stream",
          "name": "stdout",
          "text": [
            "<class 'pandas.core.frame.DataFrame'>\n",
            "RangeIndex: 3276 entries, 0 to 3275\n",
            "Data columns (total 10 columns):\n",
            " #   Column           Non-Null Count  Dtype  \n",
            "---  ------           --------------  -----  \n",
            " 0   ph               3276 non-null   float64\n",
            " 1   Hardness         3276 non-null   float64\n",
            " 2   Solids           3276 non-null   float64\n",
            " 3   Chloramines      3276 non-null   float64\n",
            " 4   Sulfate          3276 non-null   float64\n",
            " 5   Conductivity     3276 non-null   float64\n",
            " 6   Organic_carbon   3276 non-null   float64\n",
            " 7   Trihalomethanes  3276 non-null   float64\n",
            " 8   Turbidity        3276 non-null   float64\n",
            " 9   Potability       3276 non-null   int64  \n",
            "dtypes: float64(9), int64(1)\n",
            "memory usage: 256.1 KB\n"
          ]
        }
      ]
    },
    {
      "cell_type": "code",
      "source": [
        "data['Potability'].value_counts()"
      ],
      "metadata": {
        "colab": {
          "base_uri": "https://localhost:8080/"
        },
        "id": "lRHRG1i5V72R",
        "outputId": "b8c79772-26ed-4650-be50-8b500d5ebf91"
      },
      "execution_count": null,
      "outputs": [
        {
          "output_type": "execute_result",
          "data": {
            "text/plain": [
              "0    1998\n",
              "1    1278\n",
              "Name: Potability, dtype: int64"
            ]
          },
          "metadata": {},
          "execution_count": 30
        }
      ]
    },
    {
      "cell_type": "code",
      "source": [
        "import numpy as np\n",
        "from sklearn.utils import resample\n",
        "\n",
        "a = np.array([[0,0,0,0],[2,2,2,2],[1,1,1,1]])\n",
        "b = resample(a,n_samples=10,random_state=40)\n",
        "print(b)\n",
        "print(a.shape)\n",
        "print(b.shape)"
      ],
      "metadata": {
        "colab": {
          "base_uri": "https://localhost:8080/"
        },
        "id": "UK7XkxAZafL8",
        "outputId": "f8f6369a-10aa-4236-e8a2-6fee39ef82ea"
      },
      "execution_count": null,
      "outputs": [
        {
          "output_type": "stream",
          "name": "stdout",
          "text": [
            "[[1 1 1 1]\n",
            " [2 2 2 2]\n",
            " [0 0 0 0]\n",
            " [0 0 0 0]\n",
            " [1 1 1 1]\n",
            " [2 2 2 2]\n",
            " [0 0 0 0]\n",
            " [1 1 1 1]\n",
            " [1 1 1 1]\n",
            " [2 2 2 2]]\n",
            "(3, 4)\n",
            "(10, 4)\n"
          ]
        }
      ]
    },
    {
      "cell_type": "code",
      "source": [
        "notpotable  = data[data['Potability']==0]\n",
        "potable = data[data['Potability']==1]  \n",
        "\n",
        "from sklearn.utils import resample\n",
        "potable = resample(potable, n_samples = 1998, random_state=40)\n",
        "\n",
        "from sklearn.utils import shuffle\n",
        "data = pd.concat([notpotable, potable])\n",
        "\n",
        "data = shuffle(data, random_state=40)\n",
        "data['Potability'].value_counts()"
      ],
      "metadata": {
        "id": "m10EQTvr_UUi",
        "colab": {
          "base_uri": "https://localhost:8080/"
        },
        "outputId": "a9ebe915-77a9-450b-86e6-151e82d978bd"
      },
      "execution_count": null,
      "outputs": [
        {
          "output_type": "execute_result",
          "data": {
            "text/plain": [
              "1    1998\n",
              "0    1998\n",
              "Name: Potability, dtype: int64"
            ]
          },
          "metadata": {},
          "execution_count": 32
        }
      ]
    },
    {
      "cell_type": "code",
      "source": [
        "data.head()"
      ],
      "metadata": {
        "colab": {
          "base_uri": "https://localhost:8080/",
          "height": 206
        },
        "id": "IM0OhbIK_v0w",
        "outputId": "e1a4c7dc-c48b-40dd-b6a7-6d1895e8f34b"
      },
      "execution_count": null,
      "outputs": [
        {
          "output_type": "execute_result",
          "data": {
            "text/plain": [
              "            ph    Hardness        Solids  Chloramines     Sulfate  \\\n",
              "366   4.037288  291.461897  52318.917298     7.779459  332.566990   \n",
              "1542  6.347020   97.280909  19743.148416     3.402682  305.431236   \n",
              "722   8.860451  193.743105  24085.112140     6.183110  332.566990   \n",
              "540   3.841205  186.917765  19988.649262     7.174952  334.564290   \n",
              "2396  7.717077  211.681327  21400.016496     6.987854  268.944957   \n",
              "\n",
              "      Conductivity  Organic_carbon  Trihalomethanes  Turbidity  Potability  \n",
              "366     401.204271       16.542921        87.814800   3.045049           1  \n",
              "1542    502.919013       15.094091        86.554168   4.526351           1  \n",
              "722     526.704924        9.901328        81.339340   4.677713           1  \n",
              "540     483.334209       13.422802        74.381701   3.635635           0  \n",
              "2396    495.914919       11.440747        85.051546   4.967976           1  "
            ],
            "text/html": [
              "\n",
              "  <div id=\"df-5068d6d8-f65a-4452-a22d-0b65c13321eb\">\n",
              "    <div class=\"colab-df-container\">\n",
              "      <div>\n",
              "<style scoped>\n",
              "    .dataframe tbody tr th:only-of-type {\n",
              "        vertical-align: middle;\n",
              "    }\n",
              "\n",
              "    .dataframe tbody tr th {\n",
              "        vertical-align: top;\n",
              "    }\n",
              "\n",
              "    .dataframe thead th {\n",
              "        text-align: right;\n",
              "    }\n",
              "</style>\n",
              "<table border=\"1\" class=\"dataframe\">\n",
              "  <thead>\n",
              "    <tr style=\"text-align: right;\">\n",
              "      <th></th>\n",
              "      <th>ph</th>\n",
              "      <th>Hardness</th>\n",
              "      <th>Solids</th>\n",
              "      <th>Chloramines</th>\n",
              "      <th>Sulfate</th>\n",
              "      <th>Conductivity</th>\n",
              "      <th>Organic_carbon</th>\n",
              "      <th>Trihalomethanes</th>\n",
              "      <th>Turbidity</th>\n",
              "      <th>Potability</th>\n",
              "    </tr>\n",
              "  </thead>\n",
              "  <tbody>\n",
              "    <tr>\n",
              "      <th>366</th>\n",
              "      <td>4.037288</td>\n",
              "      <td>291.461897</td>\n",
              "      <td>52318.917298</td>\n",
              "      <td>7.779459</td>\n",
              "      <td>332.566990</td>\n",
              "      <td>401.204271</td>\n",
              "      <td>16.542921</td>\n",
              "      <td>87.814800</td>\n",
              "      <td>3.045049</td>\n",
              "      <td>1</td>\n",
              "    </tr>\n",
              "    <tr>\n",
              "      <th>1542</th>\n",
              "      <td>6.347020</td>\n",
              "      <td>97.280909</td>\n",
              "      <td>19743.148416</td>\n",
              "      <td>3.402682</td>\n",
              "      <td>305.431236</td>\n",
              "      <td>502.919013</td>\n",
              "      <td>15.094091</td>\n",
              "      <td>86.554168</td>\n",
              "      <td>4.526351</td>\n",
              "      <td>1</td>\n",
              "    </tr>\n",
              "    <tr>\n",
              "      <th>722</th>\n",
              "      <td>8.860451</td>\n",
              "      <td>193.743105</td>\n",
              "      <td>24085.112140</td>\n",
              "      <td>6.183110</td>\n",
              "      <td>332.566990</td>\n",
              "      <td>526.704924</td>\n",
              "      <td>9.901328</td>\n",
              "      <td>81.339340</td>\n",
              "      <td>4.677713</td>\n",
              "      <td>1</td>\n",
              "    </tr>\n",
              "    <tr>\n",
              "      <th>540</th>\n",
              "      <td>3.841205</td>\n",
              "      <td>186.917765</td>\n",
              "      <td>19988.649262</td>\n",
              "      <td>7.174952</td>\n",
              "      <td>334.564290</td>\n",
              "      <td>483.334209</td>\n",
              "      <td>13.422802</td>\n",
              "      <td>74.381701</td>\n",
              "      <td>3.635635</td>\n",
              "      <td>0</td>\n",
              "    </tr>\n",
              "    <tr>\n",
              "      <th>2396</th>\n",
              "      <td>7.717077</td>\n",
              "      <td>211.681327</td>\n",
              "      <td>21400.016496</td>\n",
              "      <td>6.987854</td>\n",
              "      <td>268.944957</td>\n",
              "      <td>495.914919</td>\n",
              "      <td>11.440747</td>\n",
              "      <td>85.051546</td>\n",
              "      <td>4.967976</td>\n",
              "      <td>1</td>\n",
              "    </tr>\n",
              "  </tbody>\n",
              "</table>\n",
              "</div>\n",
              "      <button class=\"colab-df-convert\" onclick=\"convertToInteractive('df-5068d6d8-f65a-4452-a22d-0b65c13321eb')\"\n",
              "              title=\"Convert this dataframe to an interactive table.\"\n",
              "              style=\"display:none;\">\n",
              "        \n",
              "  <svg xmlns=\"http://www.w3.org/2000/svg\" height=\"24px\"viewBox=\"0 0 24 24\"\n",
              "       width=\"24px\">\n",
              "    <path d=\"M0 0h24v24H0V0z\" fill=\"none\"/>\n",
              "    <path d=\"M18.56 5.44l.94 2.06.94-2.06 2.06-.94-2.06-.94-.94-2.06-.94 2.06-2.06.94zm-11 1L8.5 8.5l.94-2.06 2.06-.94-2.06-.94L8.5 2.5l-.94 2.06-2.06.94zm10 10l.94 2.06.94-2.06 2.06-.94-2.06-.94-.94-2.06-.94 2.06-2.06.94z\"/><path d=\"M17.41 7.96l-1.37-1.37c-.4-.4-.92-.59-1.43-.59-.52 0-1.04.2-1.43.59L10.3 9.45l-7.72 7.72c-.78.78-.78 2.05 0 2.83L4 21.41c.39.39.9.59 1.41.59.51 0 1.02-.2 1.41-.59l7.78-7.78 2.81-2.81c.8-.78.8-2.07 0-2.86zM5.41 20L4 18.59l7.72-7.72 1.47 1.35L5.41 20z\"/>\n",
              "  </svg>\n",
              "      </button>\n",
              "      \n",
              "  <style>\n",
              "    .colab-df-container {\n",
              "      display:flex;\n",
              "      flex-wrap:wrap;\n",
              "      gap: 12px;\n",
              "    }\n",
              "\n",
              "    .colab-df-convert {\n",
              "      background-color: #E8F0FE;\n",
              "      border: none;\n",
              "      border-radius: 50%;\n",
              "      cursor: pointer;\n",
              "      display: none;\n",
              "      fill: #1967D2;\n",
              "      height: 32px;\n",
              "      padding: 0 0 0 0;\n",
              "      width: 32px;\n",
              "    }\n",
              "\n",
              "    .colab-df-convert:hover {\n",
              "      background-color: #E2EBFA;\n",
              "      box-shadow: 0px 1px 2px rgba(60, 64, 67, 0.3), 0px 1px 3px 1px rgba(60, 64, 67, 0.15);\n",
              "      fill: #174EA6;\n",
              "    }\n",
              "\n",
              "    [theme=dark] .colab-df-convert {\n",
              "      background-color: #3B4455;\n",
              "      fill: #D2E3FC;\n",
              "    }\n",
              "\n",
              "    [theme=dark] .colab-df-convert:hover {\n",
              "      background-color: #434B5C;\n",
              "      box-shadow: 0px 1px 3px 1px rgba(0, 0, 0, 0.15);\n",
              "      filter: drop-shadow(0px 1px 2px rgba(0, 0, 0, 0.3));\n",
              "      fill: #FFFFFF;\n",
              "    }\n",
              "  </style>\n",
              "\n",
              "      <script>\n",
              "        const buttonEl =\n",
              "          document.querySelector('#df-5068d6d8-f65a-4452-a22d-0b65c13321eb button.colab-df-convert');\n",
              "        buttonEl.style.display =\n",
              "          google.colab.kernel.accessAllowed ? 'block' : 'none';\n",
              "\n",
              "        async function convertToInteractive(key) {\n",
              "          const element = document.querySelector('#df-5068d6d8-f65a-4452-a22d-0b65c13321eb');\n",
              "          const dataTable =\n",
              "            await google.colab.kernel.invokeFunction('convertToInteractive',\n",
              "                                                     [key], {});\n",
              "          if (!dataTable) return;\n",
              "\n",
              "          const docLinkHtml = 'Like what you see? Visit the ' +\n",
              "            '<a target=\"_blank\" href=https://colab.research.google.com/notebooks/data_table.ipynb>data table notebook</a>'\n",
              "            + ' to learn more about interactive tables.';\n",
              "          element.innerHTML = '';\n",
              "          dataTable['output_type'] = 'display_data';\n",
              "          await google.colab.output.renderOutput(dataTable, element);\n",
              "          const docLink = document.createElement('div');\n",
              "          docLink.innerHTML = docLinkHtml;\n",
              "          element.appendChild(docLink);\n",
              "        }\n",
              "      </script>\n",
              "    </div>\n",
              "  </div>\n",
              "  "
            ]
          },
          "metadata": {},
          "execution_count": 33
        }
      ]
    },
    {
      "cell_type": "code",
      "source": [
        "portable_input = data.drop(['Potability'], axis = 1)\n",
        "portable_target = data['Potability']\n",
        "#portable_input = portable_input.to_numpy()\n",
        "#portable_target = portable_target.to_numpy()"
      ],
      "metadata": {
        "id": "mCIpppzq_-Hm"
      },
      "execution_count": null,
      "outputs": []
    },
    {
      "cell_type": "code",
      "source": [
        "from sklearn.model_selection import train_test_split\n",
        "train_input, test_input, train_target, test_target = train_test_split(portable_input, portable_target, random_state=40)\n",
        "print(train_input.shape)\n",
        "print(test_input.shape)\n",
        "\n",
        "#데이터형의 변환 확인\n",
        "print(type(train_input))"
      ],
      "metadata": {
        "id": "EHKdAhvGAC0f",
        "colab": {
          "base_uri": "https://localhost:8080/"
        },
        "outputId": "be6831d8-0360-484a-a945-b99d450ea12b"
      },
      "execution_count": null,
      "outputs": [
        {
          "output_type": "stream",
          "name": "stdout",
          "text": [
            "(2997, 9)\n",
            "(999, 9)\n",
            "<class 'pandas.core.frame.DataFrame'>\n"
          ]
        }
      ]
    },
    {
      "cell_type": "markdown",
      "source": [
        "##3. K-최근접분류와 로지스틱회귀 분류 알고리즘을 위한 정규화 처리"
      ],
      "metadata": {
        "id": "M3YlQ6mMzxGg"
      }
    },
    {
      "cell_type": "code",
      "source": [
        "#정규화 처리\n",
        "from sklearn.preprocessing import StandardScaler\n",
        "ss = StandardScaler()\n",
        "ss.fit(train_input)\n",
        "train_input = ss.transform(train_input)\n",
        "test_input = ss.transform(test_input)\n",
        "\n",
        "#정규화 처리된 데이터 확인\n",
        "print(train_input)\n",
        "print(type(train_input))"
      ],
      "metadata": {
        "id": "aYD31e9Be_To",
        "colab": {
          "base_uri": "https://localhost:8080/"
        },
        "outputId": "78ae7bf9-6bff-494c-f9d2-7a25d9f18534"
      },
      "execution_count": null,
      "outputs": [
        {
          "output_type": "stream",
          "name": "stdout",
          "text": [
            "[[ 2.06507703 -0.59179148 -1.91100304 ...  0.69150629 -0.25108348\n",
            "  -0.19928009]\n",
            " [-0.66577659  0.13970041  1.00537111 ... -1.49287079  0.82096087\n",
            "   0.8103463 ]\n",
            " [ 0.49062833 -0.56209532 -0.42640598 ... -1.57240401  0.6144126\n",
            "   0.24929209]\n",
            " ...\n",
            " [ 0.24908513  1.37759141 -0.99618732 ...  0.92526784 -0.25629331\n",
            "   1.40669073]\n",
            " [ 1.44463625 -0.33154918 -0.04230819 ...  0.78565103 -0.98177523\n",
            "   1.84059696]\n",
            " [ 0.51851861  1.35536898  0.40582932 ...  0.81901851  1.91810971\n",
            "   1.06244427]]\n",
            "<class 'numpy.ndarray'>\n"
          ]
        }
      ]
    },
    {
      "cell_type": "markdown",
      "source": [
        "# 여러 머신러닝 알고리즘을 활용하여 최적의 모델 생성\n",
        "##1. K-최근접분류 알고리즘\n",
        "##2. 로지스틱회귀 알고리즘\n",
        "##3. 결정트리 알고리즘\n",
        "##4. 랜덤포레스트 알고리즘"
      ],
      "metadata": {
        "id": "VO2rOBj-yzEt"
      }
    },
    {
      "cell_type": "code",
      "source": [
        "from sklearn.neighbors import KNeighborsClassifier\n",
        "from sklearn.linear_model import LogisticRegression\n",
        "from sklearn.tree import DecisionTreeClassifier\n",
        "from sklearn.ensemble import RandomForestClassifier\n",
        "from sklearn.model_selection import GridSearchCV\n",
        "from sklearn.metrics import accuracy_score\n",
        "import numpy as np\n",
        "\n",
        "kn = KNeighborsClassifier()\n",
        "lr = LogisticRegression()\n",
        "dt = DecisionTreeClassifier()\n",
        "rf = RandomForestClassifier()"
      ],
      "metadata": {
        "id": "DIhHiYv4ABZX"
      },
      "execution_count": null,
      "outputs": []
    },
    {
      "cell_type": "code",
      "source": [
        "#k-NN 이웃분류\n",
        "para_kn = {'n_neighbors':np.arange(1, 50)} \n",
        "grid_kn = GridSearchCV(kn, param_grid=para_kn, cv=5)\n",
        "\n",
        "#로지스틱 회귀\n",
        "para_lr = {'C': [0.001, 0.01, 0.1, 1, 10, 100]}\n",
        "grid_lr = GridSearchCV(lr, param_grid=para_lr, cv=5)\n",
        "\n",
        "#결정트리\n",
        "para_dt = {'criterion':['gini','entropy'],'max_depth':np.arange(1, 50), 'min_samples_leaf':[1,2,4,5,10,20,30,40,80,100]}\n",
        "grid_dt = GridSearchCV(dt, param_grid=para_dt, cv=5)\n",
        "\n",
        "#랜덤포레스트\n",
        "params_rf = {'n_estimators':[100,200, 350, 500], 'min_samples_leaf':[2, 10, 30]}\n",
        "grid_rf = GridSearchCV(rf, param_grid=params_rf, cv=5)"
      ],
      "metadata": {
        "id": "lftiEFaqAGH4"
      },
      "execution_count": null,
      "outputs": []
    },
    {
      "cell_type": "code",
      "source": [
        "score_df_kn = grid_kn.fit(train_input, train_target)\n",
        "score_df_lr = grid_lr.fit(train_input, train_target)\n",
        "score_df_dt = grid_dt.fit(train_input, train_target)\n",
        "score_df_rf = grid_rf.fit(train_input, train_target)\n",
        "\n",
        "print(\"최적 파라미터 k-NN:\", grid_kn.best_params_)\n",
        "print(\"최적 파라미터 로지스틱 회귀분류:\", grid_lr.best_params_)\n",
        "print(\"최적 파라미터 결정트리:\", grid_dt.best_params_)\n",
        "print(\"최적 파라미터 랜덤포레스트:\", grid_rf.best_params_)"
      ],
      "metadata": {
        "colab": {
          "base_uri": "https://localhost:8080/"
        },
        "id": "iym6SsPPAIRn",
        "outputId": "6e17cd91-e33e-4b8f-964c-7f5a68a20f2f"
      },
      "execution_count": null,
      "outputs": [
        {
          "output_type": "stream",
          "name": "stdout",
          "text": [
            "최적 파라미터 k-NN: {'n_neighbors': 1}\n",
            "최적 파라미터 로지스틱 회귀분류: {'C': 0.01}\n",
            "최적 파라미터 결정트리: {'criterion': 'gini', 'max_depth': 20, 'min_samples_leaf': 1}\n",
            "최적 파라미터 랜덤포레스트: {'min_samples_leaf': 2, 'n_estimators': 200}\n"
          ]
        }
      ]
    },
    {
      "cell_type": "code",
      "source": [
        "cv_results_kn = pd.DataFrame(score_df_kn.cv_results_)\n",
        "cv_results_lr = pd.DataFrame(score_df_lr.cv_results_)\n",
        "cv_results_dt = pd.DataFrame(score_df_dt.cv_results_)\n",
        "cv_results_rf = pd.DataFrame(score_df_rf.cv_results_)"
      ],
      "metadata": {
        "id": "cn8-6MgejQtz"
      },
      "execution_count": null,
      "outputs": []
    },
    {
      "cell_type": "code",
      "source": [
        "print(type(score_df_kn.cv_results_))\n",
        "print(cv_results_kn[['params', 'split0_test_score']])"
      ],
      "metadata": {
        "colab": {
          "base_uri": "https://localhost:8080/"
        },
        "id": "UlUlu_c2QnpX",
        "outputId": "188e430a-8164-47e2-dd93-11e7e42cc4a4"
      },
      "execution_count": null,
      "outputs": [
        {
          "output_type": "stream",
          "name": "stdout",
          "text": [
            "<class 'dict'>\n",
            "                 params  split0_test_score\n",
            "0    {'n_neighbors': 1}           0.730000\n",
            "1    {'n_neighbors': 2}           0.676667\n",
            "2    {'n_neighbors': 3}           0.678333\n",
            "3    {'n_neighbors': 4}           0.665000\n",
            "4    {'n_neighbors': 5}           0.676667\n",
            "5    {'n_neighbors': 6}           0.673333\n",
            "6    {'n_neighbors': 7}           0.673333\n",
            "7    {'n_neighbors': 8}           0.645000\n",
            "8    {'n_neighbors': 9}           0.658333\n",
            "9   {'n_neighbors': 10}           0.658333\n",
            "10  {'n_neighbors': 11}           0.660000\n",
            "11  {'n_neighbors': 12}           0.641667\n",
            "12  {'n_neighbors': 13}           0.655000\n",
            "13  {'n_neighbors': 14}           0.645000\n",
            "14  {'n_neighbors': 15}           0.635000\n",
            "15  {'n_neighbors': 16}           0.640000\n",
            "16  {'n_neighbors': 17}           0.630000\n",
            "17  {'n_neighbors': 18}           0.626667\n",
            "18  {'n_neighbors': 19}           0.625000\n",
            "19  {'n_neighbors': 20}           0.623333\n",
            "20  {'n_neighbors': 21}           0.631667\n",
            "21  {'n_neighbors': 22}           0.631667\n",
            "22  {'n_neighbors': 23}           0.626667\n",
            "23  {'n_neighbors': 24}           0.625000\n",
            "24  {'n_neighbors': 25}           0.643333\n",
            "25  {'n_neighbors': 26}           0.645000\n",
            "26  {'n_neighbors': 27}           0.650000\n",
            "27  {'n_neighbors': 28}           0.643333\n",
            "28  {'n_neighbors': 29}           0.643333\n",
            "29  {'n_neighbors': 30}           0.645000\n",
            "30  {'n_neighbors': 31}           0.640000\n",
            "31  {'n_neighbors': 32}           0.635000\n",
            "32  {'n_neighbors': 33}           0.640000\n",
            "33  {'n_neighbors': 34}           0.648333\n",
            "34  {'n_neighbors': 35}           0.638333\n",
            "35  {'n_neighbors': 36}           0.631667\n",
            "36  {'n_neighbors': 37}           0.648333\n",
            "37  {'n_neighbors': 38}           0.635000\n",
            "38  {'n_neighbors': 39}           0.641667\n",
            "39  {'n_neighbors': 40}           0.640000\n",
            "40  {'n_neighbors': 41}           0.633333\n",
            "41  {'n_neighbors': 42}           0.635000\n",
            "42  {'n_neighbors': 43}           0.633333\n",
            "43  {'n_neighbors': 44}           0.615000\n",
            "44  {'n_neighbors': 45}           0.630000\n",
            "45  {'n_neighbors': 46}           0.620000\n",
            "46  {'n_neighbors': 47}           0.636667\n",
            "47  {'n_neighbors': 48}           0.623333\n",
            "48  {'n_neighbors': 49}           0.635000\n"
          ]
        }
      ]
    },
    {
      "cell_type": "code",
      "source": [
        "#최적의 학습모델 대입\n",
        "kn = grid_kn.best_estimator_\n",
        "lr = grid_lr.best_estimator_\n",
        "dt = grid_dt.best_estimator_\n",
        "rf = grid_rf.best_estimator_"
      ],
      "metadata": {
        "id": "8QCJiBLVjEZg"
      },
      "execution_count": null,
      "outputs": []
    },
    {
      "cell_type": "markdown",
      "source": [
        "# 음용 가능한 물에 대하여 테스트 샘플을 넣어 정확도 결과 확인"
      ],
      "metadata": {
        "id": "icwfsDZJxKDW"
      }
    },
    {
      "cell_type": "code",
      "source": [
        "models = [('k-NN', kn), ('로지스틱회귀', lr), ('결정트리', dt), ('랜덤포레스트', rf)]\n",
        "\n",
        "for model_name, model in models:\n",
        "    #model.fit(train_input, train_target)\n",
        "    pred = model.predict(test_input)\n",
        "    accuracy = accuracy_score(test_target,pred)\n",
        "    print('{:s} : {:.2f}'.format(model_name, accuracy))"
      ],
      "metadata": {
        "colab": {
          "base_uri": "https://localhost:8080/"
        },
        "id": "x-U5bygHARTY",
        "outputId": "ac4bc80a-d4af-4682-8438-3cebb36374b4"
      },
      "execution_count": null,
      "outputs": [
        {
          "output_type": "stream",
          "name": "stdout",
          "text": [
            "k-NN : 0.79\n",
            "로지스틱회귀 : 0.49\n",
            "결정트리 : 0.84\n",
            "랜덤포레스트 : 0.90\n"
          ]
        }
      ]
    },
    {
      "cell_type": "code",
      "source": [
        "import matplotlib.pyplot as plt\n",
        "from sklearn.tree import plot_tree\n",
        "plt.figure(figsize=(20,15))\n",
        "plot_tree(dt, max_depth=2, feature_names=['ph',\t'Hardness',\t'Solids',\t'Chloramines',\t'Sulfate',\t'Conductivity',\t'Organic_carbon',\t'Trihalomethanes',\t'Turbidity'], filled=True)\n",
        "plt.show()\n"
      ],
      "metadata": {
        "id": "optRXvUboV7h",
        "colab": {
          "base_uri": "https://localhost:8080/",
          "height": 846
        },
        "outputId": "5797ccb6-a203-4308-9a3b-714f45b3e913"
      },
      "execution_count": null,
      "outputs": [
        {
          "output_type": "display_data",
          "data": {
            "text/plain": [
              "<Figure size 1440x1080 with 1 Axes>"
            ],
            "image/png": "[encoded data removed]"
          },
          "metadata": {
            "needs_background": "light"
          }
        }
      ]
    },
    {
      "cell_type": "markdown",
      "source": [
        "#삼진그룹 공장 근처 하천의 9개 지점의 물을 샘플로 가져와 실험"
      ],
      "metadata": {
        "id": "KZV5J-z4yREa"
      }
    },
    {
      "cell_type": "code",
      "source": [
        "samjin_factory_input = pd.read_csv('/content/drive/My Drive/꼬꼬무_인공지능/3.2_삼진그룹영어토익반/samjin_water.csv', header=None)\n",
        "samjin_factory_input = samjin_factory_input.to_numpy()"
      ],
      "metadata": {
        "id": "iXwXB_hGu9Zi"
      },
      "execution_count": null,
      "outputs": []
    },
    {
      "cell_type": "code",
      "source": [
        "pred = rf.predict(samjin_factory_input)\n",
        "for i, water in enumerate(pred) :\n",
        "  print(\"삼진그룹 공장 {0}번 지점 하천의 음용가능 판단여부: {1}\".format(i, '가능' if water else '불가능'))"
      ],
      "metadata": {
        "colab": {
          "base_uri": "https://localhost:8080/"
        },
        "id": "Ym5jK7vx7IdQ",
        "outputId": "f772cd41-5cfd-4529-c02f-95932a61f28c"
      },
      "execution_count": null,
      "outputs": [
        {
          "output_type": "stream",
          "name": "stdout",
          "text": [
            "삼진그룹 공장 0번 지점 하천의 음용가능 판단여부: 불가능\n",
            "삼진그룹 공장 1번 지점 하천의 음용가능 판단여부: 불가능\n",
            "삼진그룹 공장 2번 지점 하천의 음용가능 판단여부: 불가능\n",
            "삼진그룹 공장 3번 지점 하천의 음용가능 판단여부: 불가능\n",
            "삼진그룹 공장 4번 지점 하천의 음용가능 판단여부: 불가능\n",
            "삼진그룹 공장 5번 지점 하천의 음용가능 판단여부: 불가능\n",
            "삼진그룹 공장 6번 지점 하천의 음용가능 판단여부: 불가능\n",
            "삼진그룹 공장 7번 지점 하천의 음용가능 판단여부: 불가능\n",
            "삼진그룹 공장 8번 지점 하천의 음용가능 판단여부: 불가능\n"
          ]
        }
      ]
    },
    {
      "cell_type": "markdown",
      "source": [
        "#<3> 영화의 새로운 결말\n",
        "<img src=\"https://drive.google.com/uc?id=1kNb6ZNrpAUXXmckTpPSdmgPhCZznkmJd\" width=1000>"
      ],
      "metadata": {
        "id": "HMho-ToNRf_j"
      }
    },
    {
      "cell_type": "code",
      "source": [],
      "metadata": {
        "id": "J9UiQSBWAgED"
      },
      "execution_count": null,
      "outputs": []
    }
  ]
}